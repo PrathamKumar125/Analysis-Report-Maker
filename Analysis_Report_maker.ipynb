{
  "nbformat": 4,
  "nbformat_minor": 0,
  "metadata": {
    "colab": {
      "provenance": [],
      "authorship_tag": "ABX9TyP2RASHRynrKI/Pp122SsMC",
      "include_colab_link": true
    },
    "kernelspec": {
      "name": "python3",
      "display_name": "Python 3"
    },
    "language_info": {
      "name": "python"
    }
  },
  "cells": [
    {
      "cell_type": "markdown",
      "metadata": {
        "id": "view-in-github",
        "colab_type": "text"
      },
      "source": [
        "<a href=\"https://colab.research.google.com/github/PrathamKumar125/Analysis-Report-Maker/blob/main/Analysis_Report_maker.ipynb\" target=\"_parent\"><img src=\"https://colab.research.google.com/assets/colab-badge.svg\" alt=\"Open In Colab\"/></a>"
      ]
    },
    {
      "source": [
        "!pip install fpdf"
      ],
      "cell_type": "code",
      "metadata": {
        "colab": {
          "base_uri": "https://localhost:8080/",
          "height": 0
        },
        "id": "-AjKh5dfue92",
        "outputId": "4c0a122a-9078-4fac-ffe0-a3713a2c1ea9"
      },
      "execution_count": 2,
      "outputs": [
        {
          "output_type": "stream",
          "name": "stdout",
          "text": [
            "Collecting fpdf\n",
            "  Downloading fpdf-1.7.2.tar.gz (39 kB)\n",
            "  Preparing metadata (setup.py) ... \u001b[?25l\u001b[?25hdone\n",
            "Building wheels for collected packages: fpdf\n",
            "  Building wheel for fpdf (setup.py) ... \u001b[?25l\u001b[?25hdone\n",
            "  Created wheel for fpdf: filename=fpdf-1.7.2-py2.py3-none-any.whl size=40704 sha256=cbc1c3cbcd5cce70c1feae79a9f140dd71d3850e4e004f22e10c7b0cb780ca8c\n",
            "  Stored in directory: /root/.cache/pip/wheels/f9/95/ba/f418094659025eb9611f17cbcaf2334236bf39a0c3453ea455\n",
            "Successfully built fpdf\n",
            "Installing collected packages: fpdf\n",
            "Successfully installed fpdf-1.7.2\n"
          ]
        }
      ]
    },
    {
      "cell_type": "code",
      "execution_count": 3,
      "metadata": {
        "id": "cKl2LHHOscU9"
      },
      "outputs": [],
      "source": [
        "import pandas as pd\n",
        "import matplotlib.pyplot as plt\n",
        "import seaborn as sns\n",
        "from fpdf import FPDF\n",
        "import os"
      ]
    },
    {
      "cell_type": "code",
      "source": [
        "df = pd.read_csv('/content/employee.csv')"
      ],
      "metadata": {
        "id": "FL87ex8KuMYf"
      },
      "execution_count": 4,
      "outputs": []
    },
    {
      "cell_type": "code",
      "source": [
        "def list_missing_values(df):\n",
        "    missing_values = df.isnull().sum()\n",
        "    return missing_values[missing_values > 0]\n",
        "\n",
        "list_missing_values(df)"
      ],
      "metadata": {
        "colab": {
          "base_uri": "https://localhost:8080/",
          "height": 84
        },
        "id": "QB3voxRHtkfN",
        "outputId": "7907b081-79da-4a55-c92e-9249bcdd6f9d"
      },
      "execution_count": 6,
      "outputs": [
        {
          "output_type": "execute_result",
          "data": {
            "text/plain": [
              "Series([], dtype: int64)"
            ],
            "text/html": [
              "<div>\n",
              "<style scoped>\n",
              "    .dataframe tbody tr th:only-of-type {\n",
              "        vertical-align: middle;\n",
              "    }\n",
              "\n",
              "    .dataframe tbody tr th {\n",
              "        vertical-align: top;\n",
              "    }\n",
              "\n",
              "    .dataframe thead th {\n",
              "        text-align: right;\n",
              "    }\n",
              "</style>\n",
              "<table border=\"1\" class=\"dataframe\">\n",
              "  <thead>\n",
              "    <tr style=\"text-align: right;\">\n",
              "      <th></th>\n",
              "      <th>0</th>\n",
              "    </tr>\n",
              "  </thead>\n",
              "  <tbody>\n",
              "  </tbody>\n",
              "</table>\n",
              "</div><br><label><b>dtype:</b> int64</label>"
            ]
          },
          "metadata": {},
          "execution_count": 6
        }
      ]
    },
    {
      "cell_type": "code",
      "source": [
        "def categorize_columns(df):\n",
        "    numeric_cols = df.select_dtypes(include=['number']).columns.tolist()\n",
        "    categorical_cols = df.select_dtypes(exclude=['number']).columns.tolist()\n",
        "    return numeric_cols, categorical_cols\n",
        "\n",
        "categorize_columns(df)"
      ],
      "metadata": {
        "colab": {
          "base_uri": "https://localhost:8080/",
          "height": 0
        },
        "id": "3WuEOdkPtnaV",
        "outputId": "4667985f-1614-4e69-b6f2-0c82c285756b"
      },
      "execution_count": 7,
      "outputs": [
        {
          "output_type": "execute_result",
          "data": {
            "text/plain": [
              "(['EMPLOYEE_ID', 'SALARY', 'DEPARTMENT_ID'],\n",
              " ['FIRST_NAME',\n",
              "  'LAST_NAME',\n",
              "  'EMAIL',\n",
              "  'PHONE_NUMBER',\n",
              "  'HIRE_DATE',\n",
              "  'JOB_ID',\n",
              "  'COMMISSION_PCT',\n",
              "  'MANAGER_ID'])"
            ]
          },
          "metadata": {},
          "execution_count": 7
        }
      ]
    },
    {
      "cell_type": "code",
      "source": [
        "def list_and_remove_duplicates(df):\n",
        "    duplicates = df[df.duplicated()]\n",
        "    df_no_duplicates = df.drop_duplicates()\n",
        "    return duplicates, df_no_duplicates\n",
        "\n",
        "list_and_remove_duplicates(df)"
      ],
      "metadata": {
        "colab": {
          "base_uri": "https://localhost:8080/",
          "height": 0
        },
        "id": "VNbAWyHbtpT4",
        "outputId": "bdf0ec67-1c82-4ab6-fe3e-b5cac5f8d22d"
      },
      "execution_count": 8,
      "outputs": [
        {
          "output_type": "execute_result",
          "data": {
            "text/plain": [
              "(Empty DataFrame\n",
              " Columns: [EMPLOYEE_ID, FIRST_NAME, LAST_NAME, EMAIL, PHONE_NUMBER, HIRE_DATE, JOB_ID, SALARY, COMMISSION_PCT, MANAGER_ID, DEPARTMENT_ID]\n",
              " Index: [],\n",
              "     EMPLOYEE_ID   FIRST_NAME    LAST_NAME     EMAIL  PHONE_NUMBER  HIRE_DATE  \\\n",
              " 0           198       Donald     OConnell  DOCONNEL  650.507.9833  21-JUN-07   \n",
              " 1           199      Douglas        Grant    DGRANT  650.507.9844  13-JAN-08   \n",
              " 2           200     Jennifer       Whalen   JWHALEN  515.123.4444  17-SEP-03   \n",
              " 3           201      Michael    Hartstein  MHARTSTE  515.123.5555  17-FEB-04   \n",
              " 4           202          Pat          Fay      PFAY  603.123.6666  17-AUG-05   \n",
              " 5           203        Susan       Mavris   SMAVRIS  515.123.7777  07-JUN-02   \n",
              " 6           204      Hermann         Baer     HBAER  515.123.8888  07-JUN-02   \n",
              " 7           205      Shelley      Higgins  SHIGGINS  515.123.8080  07-JUN-02   \n",
              " 8           206      William        Gietz    WGIETZ  515.123.8181  07-JUN-02   \n",
              " 9           100       Steven         King     SKING  515.123.4567  17-JUN-03   \n",
              " 10          101        Neena      Kochhar  NKOCHHAR  515.123.4568  21-SEP-05   \n",
              " 11          102          Lex      De Haan   LDEHAAN  515.123.4569  13-JAN-01   \n",
              " 12          103    Alexander       Hunold   AHUNOLD  590.423.4567  03-JAN-06   \n",
              " 13          104        Bruce        Ernst    BERNST  590.423.4568  21-MAY-07   \n",
              " 14          105        David       Austin   DAUSTIN  590.423.4569  25-JUN-05   \n",
              " 15          106        Valli    Pataballa  VPATABAL  590.423.4560  05-FEB-06   \n",
              " 16          107        Diana      Lorentz  DLORENTZ  590.423.5567  07-FEB-07   \n",
              " 17          108        Nancy    Greenberg  NGREENBE  515.124.4569  17-AUG-02   \n",
              " 18          109       Daniel       Faviet   DFAVIET  515.124.4169  16-AUG-02   \n",
              " 19          110         John         Chen     JCHEN  515.124.4269  28-SEP-05   \n",
              " 20          111       Ismael      Sciarra  ISCIARRA  515.124.4369  30-SEP-05   \n",
              " 21          112  Jose Manuel        Urman   JMURMAN  515.124.4469  07-MAR-06   \n",
              " 22          113         Luis         Popp     LPOPP  515.124.4567  07-DEC-07   \n",
              " 23          114          Den     Raphaely  DRAPHEAL  515.127.4561  07-DEC-02   \n",
              " 24          115    Alexander         Khoo     AKHOO  515.127.4562  18-MAY-03   \n",
              " 25          116       Shelli        Baida    SBAIDA  515.127.4563  24-DEC-05   \n",
              " 26          117        Sigal       Tobias   STOBIAS  515.127.4564  24-JUL-05   \n",
              " 27          118          Guy       Himuro   GHIMURO  515.127.4565  15-NOV-06   \n",
              " 28          119        Karen   Colmenares  KCOLMENA  515.127.4566  10-AUG-07   \n",
              " 29          120      Matthew        Weiss    MWEISS  650.123.1234  18-JUL-04   \n",
              " 30          121         Adam        Fripp    AFRIPP  650.123.2234  10-APR-05   \n",
              " 31          122        Payam     Kaufling  PKAUFLIN  650.123.3234  01-MAY-03   \n",
              " 32          123       Shanta      Vollman  SVOLLMAN  650.123.4234  10-OCT-05   \n",
              " 33          124        Kevin      Mourgos  KMOURGOS  650.123.5234  16-NOV-07   \n",
              " 34          125        Julia        Nayer    JNAYER  650.124.1214  16-JUL-05   \n",
              " 35          126        Irene  Mikkilineni  IMIKKILI  650.124.1224  28-SEP-06   \n",
              " 36          127        James       Landry   JLANDRY  650.124.1334  14-JAN-07   \n",
              " 37          128       Steven       Markle   SMARKLE  650.124.1434  08-MAR-08   \n",
              " 38          129        Laura       Bissot   LBISSOT  650.124.5234  20-AUG-05   \n",
              " 39          130        Mozhe     Atkinson  MATKINSO  650.124.6234  30-OCT-05   \n",
              " 40          131        James       Marlow   JAMRLOW  650.124.7234  16-FEB-05   \n",
              " 41          132           TJ        Olson   TJOLSON  650.124.8234  10-APR-07   \n",
              " 42          133        Jason       Mallin   JMALLIN  650.127.1934  14-JUN-04   \n",
              " 43          134      Michael       Rogers   MROGERS  650.127.1834  26-AUG-06   \n",
              " 44          135           Ki          Gee      KGEE  650.127.1734  12-DEC-07   \n",
              " 45          136        Hazel   Philtanker  HPHILTAN  650.127.1634  06-FEB-08   \n",
              " 46          137       Renske       Ladwig   RLADWIG  650.121.1234  14-JUL-03   \n",
              " 47          138      Stephen       Stiles   SSTILES  650.121.2034  26-OCT-05   \n",
              " 48          139         John          Seo      JSEO  650.121.2019  12-FEB-06   \n",
              " 49          140       Joshua        Patel    JPATEL  650.121.1834  06-APR-06   \n",
              " \n",
              "         JOB_ID  SALARY COMMISSION_PCT MANAGER_ID  DEPARTMENT_ID  \n",
              " 0     SH_CLERK    2600             -         124             50  \n",
              " 1     SH_CLERK    2600             -         124             50  \n",
              " 2      AD_ASST    4400             -         101             10  \n",
              " 3       MK_MAN   13000             -         100             20  \n",
              " 4       MK_REP    6000             -         201             20  \n",
              " 5       HR_REP    6500             -         101             40  \n",
              " 6       PR_REP   10000             -         101             70  \n",
              " 7       AC_MGR   12008             -         101            110  \n",
              " 8   AC_ACCOUNT    8300             -         205            110  \n",
              " 9      AD_PRES   24000             -          -              90  \n",
              " 10       AD_VP   17000             -         100             90  \n",
              " 11       AD_VP   17000             -         100             90  \n",
              " 12     IT_PROG    9000             -         102             60  \n",
              " 13     IT_PROG    6000             -         103             60  \n",
              " 14     IT_PROG    4800             -         103             60  \n",
              " 15     IT_PROG    4800             -         103             60  \n",
              " 16     IT_PROG    4200             -         103             60  \n",
              " 17      FI_MGR   12008             -         101            100  \n",
              " 18  FI_ACCOUNT    9000             -         108            100  \n",
              " 19  FI_ACCOUNT    8200             -         108            100  \n",
              " 20  FI_ACCOUNT    7700             -         108            100  \n",
              " 21  FI_ACCOUNT    7800             -         108            100  \n",
              " 22  FI_ACCOUNT    6900             -         108            100  \n",
              " 23      PU_MAN   11000             -         100             30  \n",
              " 24    PU_CLERK    3100             -         114             30  \n",
              " 25    PU_CLERK    2900             -         114             30  \n",
              " 26    PU_CLERK    2800             -         114             30  \n",
              " 27    PU_CLERK    2600             -         114             30  \n",
              " 28    PU_CLERK    2500             -         114             30  \n",
              " 29      ST_MAN    8000             -         100             50  \n",
              " 30      ST_MAN    8200             -         100             50  \n",
              " 31      ST_MAN    7900             -         100             50  \n",
              " 32      ST_MAN    6500             -         100             50  \n",
              " 33      ST_MAN    5800             -         100             50  \n",
              " 34    ST_CLERK    3200             -         120             50  \n",
              " 35    ST_CLERK    2700             -         120             50  \n",
              " 36    ST_CLERK    2400             -         120             50  \n",
              " 37    ST_CLERK    2200             -         120             50  \n",
              " 38    ST_CLERK    3300             -         121             50  \n",
              " 39    ST_CLERK    2800             -         121             50  \n",
              " 40    ST_CLERK    2500             -         121             50  \n",
              " 41    ST_CLERK    2100             -         121             50  \n",
              " 42    ST_CLERK    3300             -         122             50  \n",
              " 43    ST_CLERK    2900             -         122             50  \n",
              " 44    ST_CLERK    2400             -         122             50  \n",
              " 45    ST_CLERK    2200             -         122             50  \n",
              " 46    ST_CLERK    3600             -         123             50  \n",
              " 47    ST_CLERK    3200             -         123             50  \n",
              " 48    ST_CLERK    2700             -         123             50  \n",
              " 49    ST_CLERK    2500             -         123             50  )"
            ]
          },
          "metadata": {},
          "execution_count": 8
        }
      ]
    },
    {
      "cell_type": "code",
      "source": [
        "def list_and_remove_constants(df):\n",
        "    constant_cols = [col for col in df.columns if df[col].nunique() == 1]\n",
        "    df_no_constants = df.drop(columns=constant_cols)\n",
        "    return constant_cols, df_no_constants\n",
        "\n",
        "list_and_remove_constants(df)"
      ],
      "metadata": {
        "colab": {
          "base_uri": "https://localhost:8080/",
          "height": 0
        },
        "id": "abIW4BxLvvf-",
        "outputId": "ff4fef2a-39d4-470f-f09c-ddd549d62bb9"
      },
      "execution_count": 16,
      "outputs": [
        {
          "output_type": "execute_result",
          "data": {
            "text/plain": [
              "(['COMMISSION_PCT'],\n",
              "     EMPLOYEE_ID   FIRST_NAME    LAST_NAME     EMAIL  PHONE_NUMBER  HIRE_DATE  \\\n",
              " 0           198       Donald     OConnell  DOCONNEL  650.507.9833  21-JUN-07   \n",
              " 1           199      Douglas        Grant    DGRANT  650.507.9844  13-JAN-08   \n",
              " 2           200     Jennifer       Whalen   JWHALEN  515.123.4444  17-SEP-03   \n",
              " 3           201      Michael    Hartstein  MHARTSTE  515.123.5555  17-FEB-04   \n",
              " 4           202          Pat          Fay      PFAY  603.123.6666  17-AUG-05   \n",
              " 5           203        Susan       Mavris   SMAVRIS  515.123.7777  07-JUN-02   \n",
              " 6           204      Hermann         Baer     HBAER  515.123.8888  07-JUN-02   \n",
              " 7           205      Shelley      Higgins  SHIGGINS  515.123.8080  07-JUN-02   \n",
              " 8           206      William        Gietz    WGIETZ  515.123.8181  07-JUN-02   \n",
              " 9           100       Steven         King     SKING  515.123.4567  17-JUN-03   \n",
              " 10          101        Neena      Kochhar  NKOCHHAR  515.123.4568  21-SEP-05   \n",
              " 11          102          Lex      De Haan   LDEHAAN  515.123.4569  13-JAN-01   \n",
              " 12          103    Alexander       Hunold   AHUNOLD  590.423.4567  03-JAN-06   \n",
              " 13          104        Bruce        Ernst    BERNST  590.423.4568  21-MAY-07   \n",
              " 14          105        David       Austin   DAUSTIN  590.423.4569  25-JUN-05   \n",
              " 15          106        Valli    Pataballa  VPATABAL  590.423.4560  05-FEB-06   \n",
              " 16          107        Diana      Lorentz  DLORENTZ  590.423.5567  07-FEB-07   \n",
              " 17          108        Nancy    Greenberg  NGREENBE  515.124.4569  17-AUG-02   \n",
              " 18          109       Daniel       Faviet   DFAVIET  515.124.4169  16-AUG-02   \n",
              " 19          110         John         Chen     JCHEN  515.124.4269  28-SEP-05   \n",
              " 20          111       Ismael      Sciarra  ISCIARRA  515.124.4369  30-SEP-05   \n",
              " 21          112  Jose Manuel        Urman   JMURMAN  515.124.4469  07-MAR-06   \n",
              " 22          113         Luis         Popp     LPOPP  515.124.4567  07-DEC-07   \n",
              " 23          114          Den     Raphaely  DRAPHEAL  515.127.4561  07-DEC-02   \n",
              " 24          115    Alexander         Khoo     AKHOO  515.127.4562  18-MAY-03   \n",
              " 25          116       Shelli        Baida    SBAIDA  515.127.4563  24-DEC-05   \n",
              " 26          117        Sigal       Tobias   STOBIAS  515.127.4564  24-JUL-05   \n",
              " 27          118          Guy       Himuro   GHIMURO  515.127.4565  15-NOV-06   \n",
              " 28          119        Karen   Colmenares  KCOLMENA  515.127.4566  10-AUG-07   \n",
              " 29          120      Matthew        Weiss    MWEISS  650.123.1234  18-JUL-04   \n",
              " 30          121         Adam        Fripp    AFRIPP  650.123.2234  10-APR-05   \n",
              " 31          122        Payam     Kaufling  PKAUFLIN  650.123.3234  01-MAY-03   \n",
              " 32          123       Shanta      Vollman  SVOLLMAN  650.123.4234  10-OCT-05   \n",
              " 33          124        Kevin      Mourgos  KMOURGOS  650.123.5234  16-NOV-07   \n",
              " 34          125        Julia        Nayer    JNAYER  650.124.1214  16-JUL-05   \n",
              " 35          126        Irene  Mikkilineni  IMIKKILI  650.124.1224  28-SEP-06   \n",
              " 36          127        James       Landry   JLANDRY  650.124.1334  14-JAN-07   \n",
              " 37          128       Steven       Markle   SMARKLE  650.124.1434  08-MAR-08   \n",
              " 38          129        Laura       Bissot   LBISSOT  650.124.5234  20-AUG-05   \n",
              " 39          130        Mozhe     Atkinson  MATKINSO  650.124.6234  30-OCT-05   \n",
              " 40          131        James       Marlow   JAMRLOW  650.124.7234  16-FEB-05   \n",
              " 41          132           TJ        Olson   TJOLSON  650.124.8234  10-APR-07   \n",
              " 42          133        Jason       Mallin   JMALLIN  650.127.1934  14-JUN-04   \n",
              " 43          134      Michael       Rogers   MROGERS  650.127.1834  26-AUG-06   \n",
              " 44          135           Ki          Gee      KGEE  650.127.1734  12-DEC-07   \n",
              " 45          136        Hazel   Philtanker  HPHILTAN  650.127.1634  06-FEB-08   \n",
              " 46          137       Renske       Ladwig   RLADWIG  650.121.1234  14-JUL-03   \n",
              " 47          138      Stephen       Stiles   SSTILES  650.121.2034  26-OCT-05   \n",
              " 48          139         John          Seo      JSEO  650.121.2019  12-FEB-06   \n",
              " 49          140       Joshua        Patel    JPATEL  650.121.1834  06-APR-06   \n",
              " \n",
              "         JOB_ID  SALARY MANAGER_ID  DEPARTMENT_ID  \n",
              " 0     SH_CLERK    2600        124             50  \n",
              " 1     SH_CLERK    2600        124             50  \n",
              " 2      AD_ASST    4400        101             10  \n",
              " 3       MK_MAN   13000        100             20  \n",
              " 4       MK_REP    6000        201             20  \n",
              " 5       HR_REP    6500        101             40  \n",
              " 6       PR_REP   10000        101             70  \n",
              " 7       AC_MGR   12008        101            110  \n",
              " 8   AC_ACCOUNT    8300        205            110  \n",
              " 9      AD_PRES   24000         -              90  \n",
              " 10       AD_VP   17000        100             90  \n",
              " 11       AD_VP   17000        100             90  \n",
              " 12     IT_PROG    9000        102             60  \n",
              " 13     IT_PROG    6000        103             60  \n",
              " 14     IT_PROG    4800        103             60  \n",
              " 15     IT_PROG    4800        103             60  \n",
              " 16     IT_PROG    4200        103             60  \n",
              " 17      FI_MGR   12008        101            100  \n",
              " 18  FI_ACCOUNT    9000        108            100  \n",
              " 19  FI_ACCOUNT    8200        108            100  \n",
              " 20  FI_ACCOUNT    7700        108            100  \n",
              " 21  FI_ACCOUNT    7800        108            100  \n",
              " 22  FI_ACCOUNT    6900        108            100  \n",
              " 23      PU_MAN   11000        100             30  \n",
              " 24    PU_CLERK    3100        114             30  \n",
              " 25    PU_CLERK    2900        114             30  \n",
              " 26    PU_CLERK    2800        114             30  \n",
              " 27    PU_CLERK    2600        114             30  \n",
              " 28    PU_CLERK    2500        114             30  \n",
              " 29      ST_MAN    8000        100             50  \n",
              " 30      ST_MAN    8200        100             50  \n",
              " 31      ST_MAN    7900        100             50  \n",
              " 32      ST_MAN    6500        100             50  \n",
              " 33      ST_MAN    5800        100             50  \n",
              " 34    ST_CLERK    3200        120             50  \n",
              " 35    ST_CLERK    2700        120             50  \n",
              " 36    ST_CLERK    2400        120             50  \n",
              " 37    ST_CLERK    2200        120             50  \n",
              " 38    ST_CLERK    3300        121             50  \n",
              " 39    ST_CLERK    2800        121             50  \n",
              " 40    ST_CLERK    2500        121             50  \n",
              " 41    ST_CLERK    2100        121             50  \n",
              " 42    ST_CLERK    3300        122             50  \n",
              " 43    ST_CLERK    2900        122             50  \n",
              " 44    ST_CLERK    2400        122             50  \n",
              " 45    ST_CLERK    2200        122             50  \n",
              " 46    ST_CLERK    3600        123             50  \n",
              " 47    ST_CLERK    3200        123             50  \n",
              " 48    ST_CLERK    2700        123             50  \n",
              " 49    ST_CLERK    2500        123             50  )"
            ]
          },
          "metadata": {},
          "execution_count": 16
        }
      ]
    },
    {
      "cell_type": "code",
      "source": [
        "def create_box_plots(df, output_dir):\n",
        "    numeric_cols = df.select_dtypes(include=['number']).columns\n",
        "    for col in numeric_cols:\n",
        "        plt.figure(figsize=(10, 6))\n",
        "        sns.boxplot(x=df[col])\n",
        "        plt.title(f'Box plot of {col}')\n",
        "        plt.savefig(os.path.join(output_dir, f'boxplot_{col}.png'))\n",
        "        plt.close()\n",
        "\n",
        "create_box_plots(df, '/content/')"
      ],
      "metadata": {
        "id": "Sl-K-iyzttIa"
      },
      "execution_count": 11,
      "outputs": []
    },
    {
      "cell_type": "code",
      "source": [
        "def create_distribution_charts(df, output_dir):\n",
        "    sample_cols = df.columns[:6]\n",
        "    for col in sample_cols:\n",
        "        plt.figure(figsize=(10, 6))\n",
        "        sns.histplot(df[col], kde=True)\n",
        "        plt.title(f'Distribution of {col}')\n",
        "        plt.savefig(os.path.join(output_dir, f'distribution_{col}.png'))\n",
        "        plt.close()\n",
        "\n",
        "create_distribution_charts(df, '/content/')"
      ],
      "metadata": {
        "id": "YkwZPTIbtvB6"
      },
      "execution_count": 12,
      "outputs": []
    },
    {
      "cell_type": "code",
      "source": [
        "def generate_report(df, output_dir='/content/report'):\n",
        "    if not os.path.exists(output_dir):\n",
        "        os.makedirs(output_dir)\n",
        "\n",
        "    missing_values = list_missing_values(df)\n",
        "    numeric_cols, categorical_cols = categorize_columns(df)\n",
        "    duplicates, df_no_duplicates = list_and_remove_duplicates(df)\n",
        "    constant_cols, df_no_constants = list_and_remove_constants(df)\n",
        "\n",
        "    create_box_plots(df, output_dir)\n",
        "    create_distribution_charts(df, output_dir)\n",
        "\n",
        "    pdf = FPDF()\n",
        "    pdf.add_page()\n",
        "    pdf.set_font(\"Arial\", size=12)\n",
        "\n",
        "    pdf.cell(200, 10, txt=\"Data Report\", ln=True, align='C')\n",
        "\n",
        "    pdf.cell(200, 10, txt=\"Missing Values:\", ln=True)\n",
        "    for col, val in missing_values.items():\n",
        "        pdf.cell(200, 10, txt=f\"{col}: {val}\", ln=True)\n",
        "\n",
        "    pdf.cell(200, 10, txt=\"Numeric Columns:\", ln=True)\n",
        "    for col in numeric_cols:\n",
        "        pdf.cell(200, 10, txt=col, ln=True)\n",
        "\n",
        "    pdf.cell(200, 10, txt=\"Categorical Columns:\", ln=True)\n",
        "    for col in categorical_cols:\n",
        "        pdf.cell(200, 10, txt=col, ln=True)\n",
        "\n",
        "    pdf.cell(200, 10, txt=\"Duplicates Before Removal:\", ln=True)\n",
        "    pdf.cell(200, 10, txt=str(duplicates), ln=True)\n",
        "\n",
        "    pdf.cell(200, 10, txt=\"Duplicates After Removal:\", ln=True)\n",
        "    pdf.cell(200, 10, txt=str(df_no_duplicates), ln=True)\n",
        "\n",
        "    pdf.cell(200, 10, txt=\"Constant Columns:\", ln=True)\n",
        "    for col in constant_cols:\n",
        "        pdf.cell(200, 10, txt=col, ln=True)\n",
        "\n",
        "    pdf.output(os.path.join(output_dir, \"data_report.pdf\"))"
      ],
      "metadata": {
        "id": "2n2K_bQHt-al"
      },
      "execution_count": 17,
      "outputs": []
    },
    {
      "cell_type": "code",
      "source": [
        "# Generate the report\n",
        "generate_report(df)"
      ],
      "metadata": {
        "id": "J6TncLxluYJ9"
      },
      "execution_count": 18,
      "outputs": []
    },
    {
      "cell_type": "code",
      "source": [],
      "metadata": {
        "id": "rpeC7-e0vimP"
      },
      "execution_count": null,
      "outputs": []
    }
  ]
}